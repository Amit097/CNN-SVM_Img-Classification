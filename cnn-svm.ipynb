{
 "cells": [
  {
   "cell_type": "code",
   "execution_count": 134,
   "metadata": {},
   "outputs": [],
   "source": [
    "import tensorflow as tf\n",
    "from tensorflow.keras.datasets.mnist import load_data\n",
    "import numpy as np\n"
   ]
  },
  {
   "cell_type": "code",
   "execution_count": 135,
   "metadata": {},
   "outputs": [],
   "source": [
    "mnist=load_data()"
   ]
  },
  {
   "cell_type": "code",
   "execution_count": 136,
   "metadata": {},
   "outputs": [
    {
     "name": "stdout",
     "output_type": "stream",
     "text": [
      "(60000, 784)\n",
      "(10000, 784)\n",
      "(60000, 10)\n",
      "(10000, 10)\n"
     ]
    }
   ],
   "source": [
    "train,test=mnist\n",
    "\n",
    "def one_hot(a, num_classes):\n",
    "    return np.squeeze(np.eye(num_classes)[a.reshape(-1)])\n",
    "\n",
    "\n",
    "\n",
    "train_features=np.reshape(train[0],newshape=[60000,784],)\n",
    "test_features=np.reshape(test[0],newshape=[test[0].shape[0],784])\n",
    "train_labels=one_hot(train[1],10)\n",
    "test_labels=one_hot(test[1],10)\n",
    "\n",
    "print(train_features.shape)\n",
    "print(test_features.shape)\n",
    "print(train_labels.shape)\n",
    "print(test_labels.shape)"
   ]
  },
  {
   "cell_type": "code",
   "execution_count": 139,
   "metadata": {},
   "outputs": [],
   "source": [
    "import os\n",
    "import tensorflow as tf\n",
    "import time\n",
    "import sys\n",
    "\n",
    "class CNNSVM:\n",
    "    def __init__(self, alpha, batch_size, num_classes, num_features, penalty_parameter):\n",
    "\n",
    "        self.alpha = alpha\n",
    "        self.batch_size = batch_size\n",
    "        self.name = 'CNN-SVM'\n",
    "        self.num_classes = num_classes\n",
    "        self.num_features = num_features\n",
    "        self.penalty_parameter = penalty_parameter\n",
    "\n",
    "        def __graph__():\n",
    "\n",
    "            with tf.name_scope('input'):\n",
    "                # [BATCH_SIZE, NUM_FEATURES]\n",
    "                x_input = tf.placeholder(dtype=tf.float32, shape=[None, num_features], name='x_input')\n",
    "\n",
    "                # [BATCH_SIZE, NUM_CLASSES]\n",
    "                y_input = tf.placeholder(dtype=tf.float32, shape=[None, num_classes], name='actual_label')\n",
    "\n",
    "            # First convolutional layer\n",
    "            first_conv_weight = self.weight_variable([5, 5, 1, 32])\n",
    "            first_conv_bias = self.bias_variable([32])\n",
    "\n",
    "            input_image = tf.reshape(x_input, [-1, 28, 28, 1])\n",
    "\n",
    "            first_conv_activation = tf.nn.relu(self.conv2d(input_image, first_conv_weight) + first_conv_bias)\n",
    "            first_conv_pool = self.max_pool_2x2(first_conv_activation)\n",
    "\n",
    "            # Second convolutional layer\n",
    "            second_conv_weight = self.weight_variable([5, 5, 32, 64])\n",
    "            second_conv_bias = self.bias_variable([64])\n",
    "\n",
    "            second_conv_activation = tf.nn.relu(self.conv2d(first_conv_pool, second_conv_weight) + second_conv_bias)\n",
    "            second_conv_pool = self.max_pool_2x2(second_conv_activation)\n",
    "\n",
    "            # Fully-connected layer (Dense Layer)\n",
    "            dense_layer_weight = self.weight_variable([7 * 7 * 64, 1024])\n",
    "            dense_layer_bias = self.bias_variable([1024])\n",
    "\n",
    "            second_conv_pool_flatten = tf.reshape(second_conv_pool, [-1, 7 * 7 * 64])\n",
    "            dense_layer_activation = tf.nn.relu(tf.matmul(second_conv_pool_flatten, dense_layer_weight) +\n",
    "                                                dense_layer_bias)\n",
    "\n",
    "            # Dropout, to avoid over-fitting\n",
    "            keep_prob = tf.placeholder(tf.float32)\n",
    "            h_fc1_drop = tf.nn.dropout(dense_layer_activation, keep_prob)\n",
    "\n",
    "            # Readout layer\n",
    "            readout_weight = self.weight_variable([1024, num_classes])\n",
    "            readout_bias = self.bias_variable([num_classes])\n",
    "\n",
    "            output = tf.matmul(h_fc1_drop, readout_weight) + readout_bias\n",
    "\n",
    "            with tf.name_scope('svm'):\n",
    "                regularization_loss = tf.reduce_mean(tf.square(readout_weight))\n",
    "                hinge_loss = tf.reduce_mean(\n",
    "                    tf.square(tf.maximum(tf.zeros([batch_size, num_classes]), 1 - y_input * output)))\n",
    "                with tf.name_scope('loss'):\n",
    "                    loss = regularization_loss + penalty_parameter * hinge_loss\n",
    "            tf.summary.scalar('loss', loss)\n",
    "\n",
    "            optimizer = tf.train.AdamOptimizer(learning_rate=alpha).minimize(loss)\n",
    "\n",
    "            with tf.name_scope('accuracy'):\n",
    "                output = tf.identity(tf.sign(output), name='prediction')\n",
    "                correct_prediction = tf.equal(tf.argmax(output, 1), tf.argmax(y_input, 1))\n",
    "                with tf.name_scope('accuracy'):\n",
    "                    accuracy = tf.reduce_mean(tf.cast(correct_prediction, tf.float32))\n",
    "            \n",
    "            tf.summary.scalar('accuracy', accuracy)\n",
    "\n",
    "            merged = tf.summary.merge_all()\n",
    "\n",
    "            self.x_input = x_input\n",
    "            self.y_input = y_input\n",
    "            self.keep_prob = keep_prob\n",
    "            self.output = output\n",
    "            self.loss = loss\n",
    "            self.optimizer = optimizer\n",
    "            self.accuracy = accuracy\n",
    "            self.merged = merged\n",
    "\n",
    "        sys.stdout.write('\\n<log> Building graph...')\n",
    "        __graph__()\n",
    "        sys.stdout.write('</log>\\n')\n",
    "\n",
    "    def train(self, checkpoint_path, epochs, log_path, train_features,train_labels, test_features,test_labels):\n",
    "\n",
    "        if not os.path.exists(path=log_path):\n",
    "            os.mkdir(log_path)\n",
    "\n",
    "        if not os.path.exists(path=checkpoint_path):\n",
    "            os.mkdir(checkpoint_path)\n",
    "\n",
    "        saver = tf.train.Saver(max_to_keep=4)\n",
    "\n",
    "        init = tf.global_variables_initializer()\n",
    "\n",
    "        timestamp = str(time.asctime())\n",
    "\n",
    "        train_writer = tf.summary.FileWriter(logdir=log_path + timestamp + '-training', graph=tf.get_default_graph())\n",
    "\n",
    "        with tf.Session() as sess:\n",
    "            sess.run(init)\n",
    "\n",
    "            checkpoint = tf.train.get_checkpoint_state(checkpoint_path)\n",
    "\n",
    "            if checkpoint and checkpoint.model_checkpoint_path:\n",
    "                saver = tf.train.import_meta_graph(checkpoint.model_checkpoint_path + '.meta')\n",
    "                saver.restore(sess, tf.train.latest_checkpoint(checkpoint_path))\n",
    "\n",
    "            for index in range(epochs):\n",
    "                \n",
    "                # train by batch\n",
    "                def batch(b_size):\n",
    "                    for i in range(0,train_features.shape[0],b_size):\n",
    "                        batch_features = train_features[i: i+ b_size]\n",
    "                        batch_labels = train_labels[i:  i+ b_size]\n",
    "                        batch_labels[batch_labels==0]=-1\n",
    "                        return batch_features,batch_labels\n",
    "                \n",
    "                \n",
    "                batch_features, batch_labels = batch(128)\n",
    "                batch_labels[batch_labels == 0] = -1\n",
    "\n",
    "                # input dictionary with dropout of 50%\n",
    "                feed_dict = {self.x_input: batch_features, self.y_input: batch_labels, self.keep_prob: 0.5}\n",
    "                \n",
    "                # run the train op\n",
    "                summary, _, loss = sess.run([self.merged, self.optimizer, self.loss], feed_dict=feed_dict)\n",
    "                \n",
    "                # every 100th step and at 0,\n",
    "                if index % 2 == 0:\n",
    "                    feed_dict = {self.x_input: batch_features, self.y_input: batch_labels, self.keep_prob: 1.0}\n",
    "                    \n",
    "                    # get the accuracy of training\n",
    "                    train_accuracy = sess.run(self.accuracy, feed_dict=feed_dict)\n",
    "                    \n",
    "                    # display the training accuracy\n",
    "                    print('step: {}, training accuracy : {}, training loss : {}'.format(index, train_accuracy, loss))\n",
    "\n",
    "                    train_writer.add_summary(summary=summary, global_step=index)\n",
    "\n",
    "                    saver.save(sess, save_path=os.path.join(checkpoint_path, self.name), global_step=index)\n",
    "\n",
    "\n",
    "            test_labels[test_labels == 0] = -1\n",
    "\n",
    "            feed_dict = {self.x_input: test_features, self.y_input: test_labels, self.keep_prob: 1.0}\n",
    "\n",
    "            test_accuracy = sess.run(self.accuracy, feed_dict=feed_dict)\n",
    "\n",
    "            print('Test Accuracy: {}'.format(test_accuracy))\n",
    "\n",
    "    @staticmethod\n",
    "    def weight_variable(shape):\n",
    "        \"\"\"Returns a weight matrix consisting of arbitrary values.\n",
    "\n",
    "        :param shape: The shape of the weight matrix to create.\n",
    "        :return: The weight matrix consisting of arbitrary values.\n",
    "        \"\"\"\n",
    "        initial = tf.truncated_normal(shape, stddev=0.1)\n",
    "        return tf.Variable(initial)\n",
    "\n",
    "    @staticmethod\n",
    "    def bias_variable(shape):\n",
    "        \"\"\"Returns a bias matrix consisting of 0.1 values.\n",
    "\n",
    "        :param shape: The shape of the bias matrix to create.\n",
    "        :return: The bias matrix consisting of 0.1 values.\n",
    "        \"\"\"\n",
    "        initial = tf.constant(0.1, shape=shape)\n",
    "        return tf.Variable(initial)\n",
    "\n",
    "    @staticmethod\n",
    "    def conv2d(features, weight):\n",
    "        \"\"\"Produces a convolutional layer that filters an image subregion\n",
    "\n",
    "        :param features: The layer input.\n",
    "        :param weight: The size of the layer filter.\n",
    "        :return: Returns a convolutional layer.\n",
    "        \"\"\"\n",
    "        return tf.nn.conv2d(features, weight, strides=[1, 1, 1, 1], padding='SAME')\n",
    "\n",
    "    @staticmethod\n",
    "    def max_pool_2x2(features):\n",
    "        \"\"\"Downnsamples the image based on convolutional layer\n",
    "\n",
    "        :param features: The input to downsample.\n",
    "        :return: Downsampled input.\n",
    "        \"\"\"\n",
    "        return tf.nn.max_pool(features, ksize=[1, 2, 2, 1], strides=[1, 2, 2, 1], padding='SAME')\n"
   ]
  },
  {
   "cell_type": "code",
   "execution_count": 140,
   "metadata": {},
   "outputs": [
    {
     "name": "stdout",
     "output_type": "stream",
     "text": [
      "\n",
      "<log> Building graph...</log>\n"
     ]
    }
   ],
   "source": [
    "model = CNNSVM(alpha=1e-3, batch_size=128, num_classes=10, num_features=784 ,penalty_parameter=1)\n",
    "\n",
    "#model.train(checkpoint_path=args.checkpoint_path, epochs=5, log_path=args.log_path,\n",
    "#            train_data=mnist.train, test_data=mnist.test)"
   ]
  },
  {
   "cell_type": "code",
   "execution_count": null,
   "metadata": {},
   "outputs": [
    {
     "name": "stdout",
     "output_type": "stream",
     "text": [
      "step: 0, training accuracy : 0.140625, training loss : 1040681.625\n",
      "step: 2, training accuracy : 0.1796875, training loss : 524830.875\n",
      "step: 4, training accuracy : 0.265625, training loss : 208018.90625\n",
      "step: 6, training accuracy : 0.5859375, training loss : 57562.18359375\n",
      "step: 8, training accuracy : 0.71875, training loss : 36139.9296875\n"
     ]
    }
   ],
   "source": [
    "model.train(checkpoint_path='./check/', epochs=10, log_path='./log/',\n",
    "            train_features=train_features,train_labels=train_labels, test_features=test_features,test_labels=test_labels)\n"
   ]
  },
  {
   "cell_type": "code",
   "execution_count": null,
   "metadata": {},
   "outputs": [],
   "source": []
  },
  {
   "cell_type": "code",
   "execution_count": 7,
   "metadata": {},
   "outputs": [
    {
     "name": "stdout",
     "output_type": "stream",
     "text": [
      "WARNING:tensorflow:From <ipython-input-7-89694f970cf7>:3: read_data_sets (from tensorflow.contrib.learn.python.learn.datasets.mnist) is deprecated and will be removed in a future version.\n",
      "Instructions for updating:\n",
      "Please use alternatives such as official/mnist/dataset.py from tensorflow/models.\n",
      "WARNING:tensorflow:From /home/amit/anaconda3/envs/my_env/lib/python3.5/site-packages/tensorflow/contrib/learn/python/learn/datasets/mnist.py:260: maybe_download (from tensorflow.contrib.learn.python.learn.datasets.base) is deprecated and will be removed in a future version.\n",
      "Instructions for updating:\n",
      "Please write your own downloading logic.\n",
      "WARNING:tensorflow:From /home/amit/anaconda3/envs/my_env/lib/python3.5/site-packages/tensorflow/contrib/learn/python/learn/datasets/mnist.py:262: extract_images (from tensorflow.contrib.learn.python.learn.datasets.mnist) is deprecated and will be removed in a future version.\n",
      "Instructions for updating:\n",
      "Please use tf.data to implement this functionality.\n",
      "Extracting ./mnist_data/train-images-idx3-ubyte.gz\n",
      "WARNING:tensorflow:From /home/amit/anaconda3/envs/my_env/lib/python3.5/site-packages/tensorflow/contrib/learn/python/learn/datasets/mnist.py:267: extract_labels (from tensorflow.contrib.learn.python.learn.datasets.mnist) is deprecated and will be removed in a future version.\n",
      "Instructions for updating:\n",
      "Please use tf.data to implement this functionality.\n",
      "Extracting ./mnist_data/train-labels-idx1-ubyte.gz\n",
      "WARNING:tensorflow:From /home/amit/anaconda3/envs/my_env/lib/python3.5/site-packages/tensorflow/contrib/learn/python/learn/datasets/mnist.py:110: dense_to_one_hot (from tensorflow.contrib.learn.python.learn.datasets.mnist) is deprecated and will be removed in a future version.\n",
      "Instructions for updating:\n",
      "Please use tf.one_hot on tensors.\n",
      "Extracting ./mnist_data/t10k-images-idx3-ubyte.gz\n",
      "Extracting ./mnist_data/t10k-labels-idx1-ubyte.gz\n",
      "WARNING:tensorflow:From /home/amit/anaconda3/envs/my_env/lib/python3.5/site-packages/tensorflow/contrib/learn/python/learn/datasets/mnist.py:290: DataSet.__init__ (from tensorflow.contrib.learn.python.learn.datasets.mnist) is deprecated and will be removed in a future version.\n",
      "Instructions for updating:\n",
      "Please use alternatives such as official/mnist/dataset.py from tensorflow/models.\n"
     ]
    }
   ],
   "source": [
    "from tensorflow.examples.tutorials.mnist import input_data\n",
    "\n",
    "mnist = input_data.read_data_sets('./mnist_data/',one_hot=True)\n"
   ]
  },
  {
   "cell_type": "code",
   "execution_count": 9,
   "metadata": {},
   "outputs": [],
   "source": [
    "train_data=mnist.train\n",
    "epochs=1\n",
    "batch_size=128\n",
    "for index in range(epochs):\n",
    "    batch_features, batch_labels = train_data.next_batch(batch_size)\n",
    "    batch_labels[batch_labels == 0] = -1"
   ]
  },
  {
   "cell_type": "code",
   "execution_count": 61,
   "metadata": {},
   "outputs": [
    {
     "name": "stdout",
     "output_type": "stream",
     "text": [
      "[-1. -1. -1. -1. -1. -1. -1.  1. -1. -1.]\n"
     ]
    }
   ],
   "source": [
    "print(batch_labels[0])"
   ]
  },
  {
   "cell_type": "code",
   "execution_count": 20,
   "metadata": {},
   "outputs": [
    {
     "name": "stdout",
     "output_type": "stream",
     "text": [
      "Tensor(\"Mean:0\", shape=(), dtype=float32)\n"
     ]
    }
   ],
   "source": [
    "import tensorflow as tf\n",
    "a=[0,1,0,0,0]\n",
    "c=[1,0,0,0,1]\n",
    "b=tf.equal(a,c)\n",
    "b=tf.reduce_mean(tf.cast(b,tf.float32))\n",
    "print(b)"
   ]
  },
  {
   "cell_type": "code",
   "execution_count": 21,
   "metadata": {},
   "outputs": [
    {
     "name": "stdout",
     "output_type": "stream",
     "text": [
      "0.4\n"
     ]
    }
   ],
   "source": [
    "\n",
    "print(tf.Session().run(b))"
   ]
  }
 ],
 "metadata": {
  "kernelspec": {
   "display_name": "Python 3",
   "language": "python",
   "name": "python3"
  },
  "language_info": {
   "codemirror_mode": {
    "name": "ipython",
    "version": 3
   },
   "file_extension": ".py",
   "mimetype": "text/x-python",
   "name": "python",
   "nbconvert_exporter": "python",
   "pygments_lexer": "ipython3",
   "version": "3.5.5"
  }
 },
 "nbformat": 4,
 "nbformat_minor": 2
}
